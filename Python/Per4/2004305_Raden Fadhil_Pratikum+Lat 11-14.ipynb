{
 "cells": [
  {
   "cell_type": "markdown",
   "source": [
    "# Pembersihan data\r\n",
    "* Pengahapusan kolom\r\n",
    "* Penghapusan baris"
   ],
   "metadata": {}
  },
  {
   "cell_type": "markdown",
   "source": [
    "|        Nama       |      NIM    |     Prodi     |\r\n",
    "| :---              |    :----:   |          ---: |\r\n",
    "| Raden Fadhil A.A  |    2004305  |    Ilkom C1   |"
   ],
   "metadata": {}
  },
  {
   "cell_type": "code",
   "execution_count": 18,
   "source": [
    "import pandas as pd\r\n",
    "df = pd.read_csv(\"BL-Flickr-Images-Book.csv\")\r\n",
    "df.head(2)\r\n",
    "# menampilkan isi dari dataset"
   ],
   "outputs": [
    {
     "output_type": "execute_result",
     "data": {
      "text/html": [
       "<div>\n",
       "<style scoped>\n",
       "    .dataframe tbody tr th:only-of-type {\n",
       "        vertical-align: middle;\n",
       "    }\n",
       "\n",
       "    .dataframe tbody tr th {\n",
       "        vertical-align: top;\n",
       "    }\n",
       "\n",
       "    .dataframe thead th {\n",
       "        text-align: right;\n",
       "    }\n",
       "</style>\n",
       "<table border=\"1\" class=\"dataframe\">\n",
       "  <thead>\n",
       "    <tr style=\"text-align: right;\">\n",
       "      <th></th>\n",
       "      <th>Identifier</th>\n",
       "      <th>Edition Statement</th>\n",
       "      <th>Place of Publication</th>\n",
       "      <th>Date of Publication</th>\n",
       "      <th>Publisher</th>\n",
       "      <th>Title</th>\n",
       "      <th>Author</th>\n",
       "      <th>Contributors</th>\n",
       "      <th>Corporate Author</th>\n",
       "      <th>Corporate Contributors</th>\n",
       "      <th>Former owner</th>\n",
       "      <th>Engraver</th>\n",
       "      <th>Issuance type</th>\n",
       "      <th>Flickr URL</th>\n",
       "      <th>Shelfmarks</th>\n",
       "    </tr>\n",
       "  </thead>\n",
       "  <tbody>\n",
       "    <tr>\n",
       "      <th>0</th>\n",
       "      <td>206</td>\n",
       "      <td>NaN</td>\n",
       "      <td>London</td>\n",
       "      <td>1879 [1878]</td>\n",
       "      <td>S. Tinsley &amp; Co.</td>\n",
       "      <td>Walter Forbes. [A novel.] By A. A</td>\n",
       "      <td>A. A.</td>\n",
       "      <td>FORBES, Walter.</td>\n",
       "      <td>NaN</td>\n",
       "      <td>NaN</td>\n",
       "      <td>NaN</td>\n",
       "      <td>NaN</td>\n",
       "      <td>monographic</td>\n",
       "      <td>http://www.flickr.com/photos/britishlibrary/ta...</td>\n",
       "      <td>British Library HMNTS 12641.b.30.</td>\n",
       "    </tr>\n",
       "    <tr>\n",
       "      <th>1</th>\n",
       "      <td>216</td>\n",
       "      <td>NaN</td>\n",
       "      <td>London; Virtue &amp; Yorston</td>\n",
       "      <td>1868</td>\n",
       "      <td>Virtue &amp; Co.</td>\n",
       "      <td>All for Greed. [A novel. The dedication signed...</td>\n",
       "      <td>A., A. A.</td>\n",
       "      <td>BLAZE DE BURY, Marie Pauline Rose - Baroness</td>\n",
       "      <td>NaN</td>\n",
       "      <td>NaN</td>\n",
       "      <td>NaN</td>\n",
       "      <td>NaN</td>\n",
       "      <td>monographic</td>\n",
       "      <td>http://www.flickr.com/photos/britishlibrary/ta...</td>\n",
       "      <td>British Library HMNTS 12626.cc.2.</td>\n",
       "    </tr>\n",
       "  </tbody>\n",
       "</table>\n",
       "</div>"
      ],
      "text/plain": [
       "   Identifier Edition Statement      Place of Publication Date of Publication  \\\n",
       "0         206               NaN                    London         1879 [1878]   \n",
       "1         216               NaN  London; Virtue & Yorston                1868   \n",
       "\n",
       "          Publisher                                              Title  \\\n",
       "0  S. Tinsley & Co.                  Walter Forbes. [A novel.] By A. A   \n",
       "1      Virtue & Co.  All for Greed. [A novel. The dedication signed...   \n",
       "\n",
       "      Author                                  Contributors  Corporate Author  \\\n",
       "0      A. A.                               FORBES, Walter.               NaN   \n",
       "1  A., A. A.  BLAZE DE BURY, Marie Pauline Rose - Baroness               NaN   \n",
       "\n",
       "   Corporate Contributors Former owner  Engraver Issuance type  \\\n",
       "0                     NaN          NaN       NaN   monographic   \n",
       "1                     NaN          NaN       NaN   monographic   \n",
       "\n",
       "                                          Flickr URL  \\\n",
       "0  http://www.flickr.com/photos/britishlibrary/ta...   \n",
       "1  http://www.flickr.com/photos/britishlibrary/ta...   \n",
       "\n",
       "                          Shelfmarks  \n",
       "0  British Library HMNTS 12641.b.30.  \n",
       "1  British Library HMNTS 12626.cc.2.  "
      ]
     },
     "metadata": {},
     "execution_count": 18
    }
   ],
   "metadata": {}
  },
  {
   "cell_type": "code",
   "execution_count": 44,
   "source": [
    "df = pd.read_csv(\"BL-Flickr-Images-Book.csv\")\r\n",
    "new = df.rename(columns={'Date of Publication': 'Year'}, inplace = True)\r\n",
    "df.head(2)\r\n",
    "# mengubah nama dari suatu kolom"
   ],
   "outputs": [
    {
     "output_type": "execute_result",
     "data": {
      "text/html": [
       "<div>\n",
       "<style scoped>\n",
       "    .dataframe tbody tr th:only-of-type {\n",
       "        vertical-align: middle;\n",
       "    }\n",
       "\n",
       "    .dataframe tbody tr th {\n",
       "        vertical-align: top;\n",
       "    }\n",
       "\n",
       "    .dataframe thead th {\n",
       "        text-align: right;\n",
       "    }\n",
       "</style>\n",
       "<table border=\"1\" class=\"dataframe\">\n",
       "  <thead>\n",
       "    <tr style=\"text-align: right;\">\n",
       "      <th></th>\n",
       "      <th>Identifier</th>\n",
       "      <th>Edition Statement</th>\n",
       "      <th>Place of Publication</th>\n",
       "      <th>Year</th>\n",
       "      <th>Publisher</th>\n",
       "      <th>Title</th>\n",
       "      <th>Author</th>\n",
       "      <th>Contributors</th>\n",
       "      <th>Corporate Author</th>\n",
       "      <th>Corporate Contributors</th>\n",
       "      <th>Former owner</th>\n",
       "      <th>Engraver</th>\n",
       "      <th>Issuance type</th>\n",
       "      <th>Flickr URL</th>\n",
       "      <th>Shelfmarks</th>\n",
       "    </tr>\n",
       "  </thead>\n",
       "  <tbody>\n",
       "    <tr>\n",
       "      <th>0</th>\n",
       "      <td>206</td>\n",
       "      <td>NaN</td>\n",
       "      <td>London</td>\n",
       "      <td>1879 [1878]</td>\n",
       "      <td>S. Tinsley &amp; Co.</td>\n",
       "      <td>Walter Forbes. [A novel.] By A. A</td>\n",
       "      <td>A. A.</td>\n",
       "      <td>FORBES, Walter.</td>\n",
       "      <td>NaN</td>\n",
       "      <td>NaN</td>\n",
       "      <td>NaN</td>\n",
       "      <td>NaN</td>\n",
       "      <td>monographic</td>\n",
       "      <td>http://www.flickr.com/photos/britishlibrary/ta...</td>\n",
       "      <td>British Library HMNTS 12641.b.30.</td>\n",
       "    </tr>\n",
       "    <tr>\n",
       "      <th>1</th>\n",
       "      <td>216</td>\n",
       "      <td>NaN</td>\n",
       "      <td>London; Virtue &amp; Yorston</td>\n",
       "      <td>1868</td>\n",
       "      <td>Virtue &amp; Co.</td>\n",
       "      <td>All for Greed. [A novel. The dedication signed...</td>\n",
       "      <td>A., A. A.</td>\n",
       "      <td>BLAZE DE BURY, Marie Pauline Rose - Baroness</td>\n",
       "      <td>NaN</td>\n",
       "      <td>NaN</td>\n",
       "      <td>NaN</td>\n",
       "      <td>NaN</td>\n",
       "      <td>monographic</td>\n",
       "      <td>http://www.flickr.com/photos/britishlibrary/ta...</td>\n",
       "      <td>British Library HMNTS 12626.cc.2.</td>\n",
       "    </tr>\n",
       "  </tbody>\n",
       "</table>\n",
       "</div>"
      ],
      "text/plain": [
       "   Identifier Edition Statement      Place of Publication         Year  \\\n",
       "0         206               NaN                    London  1879 [1878]   \n",
       "1         216               NaN  London; Virtue & Yorston         1868   \n",
       "\n",
       "          Publisher                                              Title  \\\n",
       "0  S. Tinsley & Co.                  Walter Forbes. [A novel.] By A. A   \n",
       "1      Virtue & Co.  All for Greed. [A novel. The dedication signed...   \n",
       "\n",
       "      Author                                  Contributors  Corporate Author  \\\n",
       "0      A. A.                               FORBES, Walter.               NaN   \n",
       "1  A., A. A.  BLAZE DE BURY, Marie Pauline Rose - Baroness               NaN   \n",
       "\n",
       "   Corporate Contributors Former owner  Engraver Issuance type  \\\n",
       "0                     NaN          NaN       NaN   monographic   \n",
       "1                     NaN          NaN       NaN   monographic   \n",
       "\n",
       "                                          Flickr URL  \\\n",
       "0  http://www.flickr.com/photos/britishlibrary/ta...   \n",
       "1  http://www.flickr.com/photos/britishlibrary/ta...   \n",
       "\n",
       "                          Shelfmarks  \n",
       "0  British Library HMNTS 12641.b.30.  \n",
       "1  British Library HMNTS 12626.cc.2.  "
      ]
     },
     "metadata": {},
     "execution_count": 44
    }
   ],
   "metadata": {}
  },
  {
   "cell_type": "code",
   "execution_count": 45,
   "source": [
    "to_drop = ['Edition Statement', \r\n",
    "           'Corporate Author', \r\n",
    "           'Corporate Contributors', \r\n",
    "           'Former owner', \r\n",
    "           'Engraver',\r\n",
    "           'Contributors',\r\n",
    "           'Issuance type',\r\n",
    "           'Shelfmarks']\r\n",
    "df.drop(to_drop, inplace=True, axis = 1)\r\n",
    "#df.drop(columns=to_drop, inplace=True)\r\n",
    "\r\n",
    "df.head(10)\r\n",
    "# mendrop kolom tertentu dengan menggunakan list dan menampilkan data yang telah di drop"
   ],
   "outputs": [
    {
     "output_type": "execute_result",
     "data": {
      "text/html": [
       "<div>\n",
       "<style scoped>\n",
       "    .dataframe tbody tr th:only-of-type {\n",
       "        vertical-align: middle;\n",
       "    }\n",
       "\n",
       "    .dataframe tbody tr th {\n",
       "        vertical-align: top;\n",
       "    }\n",
       "\n",
       "    .dataframe thead th {\n",
       "        text-align: right;\n",
       "    }\n",
       "</style>\n",
       "<table border=\"1\" class=\"dataframe\">\n",
       "  <thead>\n",
       "    <tr style=\"text-align: right;\">\n",
       "      <th></th>\n",
       "      <th>Identifier</th>\n",
       "      <th>Place of Publication</th>\n",
       "      <th>Year</th>\n",
       "      <th>Publisher</th>\n",
       "      <th>Title</th>\n",
       "      <th>Author</th>\n",
       "      <th>Flickr URL</th>\n",
       "    </tr>\n",
       "  </thead>\n",
       "  <tbody>\n",
       "    <tr>\n",
       "      <th>0</th>\n",
       "      <td>206</td>\n",
       "      <td>London</td>\n",
       "      <td>1879 [1878]</td>\n",
       "      <td>S. Tinsley &amp; Co.</td>\n",
       "      <td>Walter Forbes. [A novel.] By A. A</td>\n",
       "      <td>A. A.</td>\n",
       "      <td>http://www.flickr.com/photos/britishlibrary/ta...</td>\n",
       "    </tr>\n",
       "    <tr>\n",
       "      <th>1</th>\n",
       "      <td>216</td>\n",
       "      <td>London; Virtue &amp; Yorston</td>\n",
       "      <td>1868</td>\n",
       "      <td>Virtue &amp; Co.</td>\n",
       "      <td>All for Greed. [A novel. The dedication signed...</td>\n",
       "      <td>A., A. A.</td>\n",
       "      <td>http://www.flickr.com/photos/britishlibrary/ta...</td>\n",
       "    </tr>\n",
       "    <tr>\n",
       "      <th>2</th>\n",
       "      <td>218</td>\n",
       "      <td>London</td>\n",
       "      <td>1869</td>\n",
       "      <td>Bradbury, Evans &amp; Co.</td>\n",
       "      <td>Love the Avenger. By the author of “All for Gr...</td>\n",
       "      <td>A., A. A.</td>\n",
       "      <td>http://www.flickr.com/photos/britishlibrary/ta...</td>\n",
       "    </tr>\n",
       "    <tr>\n",
       "      <th>3</th>\n",
       "      <td>472</td>\n",
       "      <td>London</td>\n",
       "      <td>1851</td>\n",
       "      <td>James Darling</td>\n",
       "      <td>Welsh Sketches, chiefly ecclesiastical, to the...</td>\n",
       "      <td>A., E. S.</td>\n",
       "      <td>http://www.flickr.com/photos/britishlibrary/ta...</td>\n",
       "    </tr>\n",
       "    <tr>\n",
       "      <th>4</th>\n",
       "      <td>480</td>\n",
       "      <td>London</td>\n",
       "      <td>1857</td>\n",
       "      <td>Wertheim &amp; Macintosh</td>\n",
       "      <td>[The World in which I live, and my place in it...</td>\n",
       "      <td>A., E. S.</td>\n",
       "      <td>http://www.flickr.com/photos/britishlibrary/ta...</td>\n",
       "    </tr>\n",
       "    <tr>\n",
       "      <th>5</th>\n",
       "      <td>481</td>\n",
       "      <td>London</td>\n",
       "      <td>1875</td>\n",
       "      <td>William Macintosh</td>\n",
       "      <td>[The World in which I live, and my place in it...</td>\n",
       "      <td>A., E. S.</td>\n",
       "      <td>http://www.flickr.com/photos/britishlibrary/ta...</td>\n",
       "    </tr>\n",
       "    <tr>\n",
       "      <th>6</th>\n",
       "      <td>519</td>\n",
       "      <td>London</td>\n",
       "      <td>1872</td>\n",
       "      <td>The Author</td>\n",
       "      <td>Lagonells. By the author of Darmayne (F. E. A....</td>\n",
       "      <td>A., F. E.</td>\n",
       "      <td>http://www.flickr.com/photos/britishlibrary/ta...</td>\n",
       "    </tr>\n",
       "    <tr>\n",
       "      <th>7</th>\n",
       "      <td>667</td>\n",
       "      <td>pp. 40. G. Bryan &amp; Co: Oxford, 1898</td>\n",
       "      <td>NaN</td>\n",
       "      <td>NaN</td>\n",
       "      <td>The Coming of Spring, and other poems. By J. A...</td>\n",
       "      <td>A., J.|A., J.</td>\n",
       "      <td>http://www.flickr.com/photos/britishlibrary/ta...</td>\n",
       "    </tr>\n",
       "    <tr>\n",
       "      <th>8</th>\n",
       "      <td>874</td>\n",
       "      <td>London]</td>\n",
       "      <td>1676</td>\n",
       "      <td>NaN</td>\n",
       "      <td>A Warning to the inhabitants of England, and L...</td>\n",
       "      <td>Remaʿ.</td>\n",
       "      <td>http://www.flickr.com/photos/britishlibrary/ta...</td>\n",
       "    </tr>\n",
       "    <tr>\n",
       "      <th>9</th>\n",
       "      <td>1143</td>\n",
       "      <td>London</td>\n",
       "      <td>1679</td>\n",
       "      <td>NaN</td>\n",
       "      <td>A Satyr against Vertue. (A poem: supposed to b...</td>\n",
       "      <td>A., T.</td>\n",
       "      <td>http://www.flickr.com/photos/britishlibrary/ta...</td>\n",
       "    </tr>\n",
       "  </tbody>\n",
       "</table>\n",
       "</div>"
      ],
      "text/plain": [
       "   Identifier                 Place of Publication         Year  \\\n",
       "0         206                               London  1879 [1878]   \n",
       "1         216             London; Virtue & Yorston         1868   \n",
       "2         218                               London         1869   \n",
       "3         472                               London         1851   \n",
       "4         480                               London         1857   \n",
       "5         481                               London         1875   \n",
       "6         519                               London         1872   \n",
       "7         667  pp. 40. G. Bryan & Co: Oxford, 1898          NaN   \n",
       "8         874                              London]         1676   \n",
       "9        1143                               London         1679   \n",
       "\n",
       "               Publisher                                              Title  \\\n",
       "0       S. Tinsley & Co.                  Walter Forbes. [A novel.] By A. A   \n",
       "1           Virtue & Co.  All for Greed. [A novel. The dedication signed...   \n",
       "2  Bradbury, Evans & Co.  Love the Avenger. By the author of “All for Gr...   \n",
       "3          James Darling  Welsh Sketches, chiefly ecclesiastical, to the...   \n",
       "4   Wertheim & Macintosh  [The World in which I live, and my place in it...   \n",
       "5      William Macintosh  [The World in which I live, and my place in it...   \n",
       "6             The Author  Lagonells. By the author of Darmayne (F. E. A....   \n",
       "7                    NaN  The Coming of Spring, and other poems. By J. A...   \n",
       "8                    NaN  A Warning to the inhabitants of England, and L...   \n",
       "9                    NaN  A Satyr against Vertue. (A poem: supposed to b...   \n",
       "\n",
       "          Author                                         Flickr URL  \n",
       "0          A. A.  http://www.flickr.com/photos/britishlibrary/ta...  \n",
       "1      A., A. A.  http://www.flickr.com/photos/britishlibrary/ta...  \n",
       "2      A., A. A.  http://www.flickr.com/photos/britishlibrary/ta...  \n",
       "3      A., E. S.  http://www.flickr.com/photos/britishlibrary/ta...  \n",
       "4      A., E. S.  http://www.flickr.com/photos/britishlibrary/ta...  \n",
       "5      A., E. S.  http://www.flickr.com/photos/britishlibrary/ta...  \n",
       "6      A., F. E.  http://www.flickr.com/photos/britishlibrary/ta...  \n",
       "7  A., J.|A., J.  http://www.flickr.com/photos/britishlibrary/ta...  \n",
       "8         Remaʿ.  http://www.flickr.com/photos/britishlibrary/ta...  \n",
       "9         A., T.  http://www.flickr.com/photos/britishlibrary/ta...  "
      ]
     },
     "metadata": {},
     "execution_count": 45
    }
   ],
   "metadata": {}
  },
  {
   "cell_type": "code",
   "execution_count": 46,
   "source": [
    "df['Year'].head(20)\r\n",
    "# menampilkan isi baris dari kolom Year"
   ],
   "outputs": [
    {
     "output_type": "execute_result",
     "data": {
      "text/plain": [
       "0     1879 [1878]\n",
       "1            1868\n",
       "2            1869\n",
       "3            1851\n",
       "4            1857\n",
       "5            1875\n",
       "6            1872\n",
       "7             NaN\n",
       "8            1676\n",
       "9            1679\n",
       "10           1802\n",
       "11           1859\n",
       "12           1888\n",
       "13    1839, 38-54\n",
       "14           1897\n",
       "15           1865\n",
       "16        1860-63\n",
       "17           1873\n",
       "18           1866\n",
       "19           1899\n",
       "Name: Year, dtype: object"
      ]
     },
     "metadata": {},
     "execution_count": 46
    }
   ],
   "metadata": {}
  },
  {
   "cell_type": "code",
   "execution_count": 47,
   "source": [
    "extr = df['Year'].str.extract(r'^(\\d{4})', expand=False)\r\n",
    "extr.head(20)\r\n",
    "# membuat ketentuan untuk menampilkan/memasukkan data berupa integer dengan maksimum 4 digit"
   ],
   "outputs": [
    {
     "output_type": "execute_result",
     "data": {
      "text/plain": [
       "0     1879\n",
       "1     1868\n",
       "2     1869\n",
       "3     1851\n",
       "4     1857\n",
       "5     1875\n",
       "6     1872\n",
       "7      NaN\n",
       "8     1676\n",
       "9     1679\n",
       "10    1802\n",
       "11    1859\n",
       "12    1888\n",
       "13    1839\n",
       "14    1897\n",
       "15    1865\n",
       "16    1860\n",
       "17    1873\n",
       "18    1866\n",
       "19    1899\n",
       "Name: Year, dtype: object"
      ]
     },
     "metadata": {},
     "execution_count": 47
    }
   ],
   "metadata": {}
  },
  {
   "cell_type": "code",
   "execution_count": 48,
   "source": [
    "df['Place of Publication'].head(10)\r\n",
    "# menampilkan baris pada kolom place of publication"
   ],
   "outputs": [
    {
     "output_type": "execute_result",
     "data": {
      "text/plain": [
       "0                                 London\n",
       "1               London; Virtue & Yorston\n",
       "2                                 London\n",
       "3                                 London\n",
       "4                                 London\n",
       "5                                 London\n",
       "6                                 London\n",
       "7    pp. 40. G. Bryan & Co: Oxford, 1898\n",
       "8                                London]\n",
       "9                                 London\n",
       "Name: Place of Publication, dtype: object"
      ]
     },
     "metadata": {},
     "execution_count": 48
    }
   ],
   "metadata": {}
  },
  {
   "cell_type": "code",
   "execution_count": 49,
   "source": [
    "pub = df['Place of Publication']\r\n",
    "london = pub.str.contains('London')\r\n",
    "london[:10]\r\n",
    "# menampilkan konidisi (TRUE or FALSE) jika isi dari kolom place of publication adalah London sebanyak 10 baris"
   ],
   "outputs": [
    {
     "output_type": "execute_result",
     "data": {
      "text/plain": [
       "0     True\n",
       "1     True\n",
       "2     True\n",
       "3     True\n",
       "4     True\n",
       "5     True\n",
       "6     True\n",
       "7    False\n",
       "8     True\n",
       "9     True\n",
       "Name: Place of Publication, dtype: bool"
      ]
     },
     "metadata": {},
     "execution_count": 49
    }
   ],
   "metadata": {}
  },
  {
   "cell_type": "code",
   "execution_count": 50,
   "source": [
    "pub = df['Place of Publication']\r\n",
    "Oxford = pub.str.contains('Oxford')\r\n",
    "Oxford[:10]\r\n",
    "# menampilkan konidisi (TRUE or FALSE) jika isi dari kolom place of publication adalah Oxford sebanyak 10 baris"
   ],
   "outputs": [
    {
     "output_type": "execute_result",
     "data": {
      "text/plain": [
       "0    False\n",
       "1    False\n",
       "2    False\n",
       "3    False\n",
       "4    False\n",
       "5    False\n",
       "6    False\n",
       "7     True\n",
       "8    False\n",
       "9    False\n",
       "Name: Place of Publication, dtype: bool"
      ]
     },
     "metadata": {},
     "execution_count": 50
    }
   ],
   "metadata": {}
  },
  {
   "cell_type": "code",
   "execution_count": 51,
   "source": [
    "import numpy as np\r\n",
    "df['Place of Publication'] = np.where(london, 'London',\r\n",
    "                             np.where(Oxford, 'Oxford',\r\n",
    "                             pub.str.replace('-', ' ')))\r\n",
    "df.head(10)\r\n",
    "# menampilkan data dimana noisy data telah dibersihkan\r\n"
   ],
   "outputs": [
    {
     "output_type": "execute_result",
     "data": {
      "text/html": [
       "<div>\n",
       "<style scoped>\n",
       "    .dataframe tbody tr th:only-of-type {\n",
       "        vertical-align: middle;\n",
       "    }\n",
       "\n",
       "    .dataframe tbody tr th {\n",
       "        vertical-align: top;\n",
       "    }\n",
       "\n",
       "    .dataframe thead th {\n",
       "        text-align: right;\n",
       "    }\n",
       "</style>\n",
       "<table border=\"1\" class=\"dataframe\">\n",
       "  <thead>\n",
       "    <tr style=\"text-align: right;\">\n",
       "      <th></th>\n",
       "      <th>Identifier</th>\n",
       "      <th>Place of Publication</th>\n",
       "      <th>Year</th>\n",
       "      <th>Publisher</th>\n",
       "      <th>Title</th>\n",
       "      <th>Author</th>\n",
       "      <th>Flickr URL</th>\n",
       "    </tr>\n",
       "  </thead>\n",
       "  <tbody>\n",
       "    <tr>\n",
       "      <th>0</th>\n",
       "      <td>206</td>\n",
       "      <td>London</td>\n",
       "      <td>1879 [1878]</td>\n",
       "      <td>S. Tinsley &amp; Co.</td>\n",
       "      <td>Walter Forbes. [A novel.] By A. A</td>\n",
       "      <td>A. A.</td>\n",
       "      <td>http://www.flickr.com/photos/britishlibrary/ta...</td>\n",
       "    </tr>\n",
       "    <tr>\n",
       "      <th>1</th>\n",
       "      <td>216</td>\n",
       "      <td>London</td>\n",
       "      <td>1868</td>\n",
       "      <td>Virtue &amp; Co.</td>\n",
       "      <td>All for Greed. [A novel. The dedication signed...</td>\n",
       "      <td>A., A. A.</td>\n",
       "      <td>http://www.flickr.com/photos/britishlibrary/ta...</td>\n",
       "    </tr>\n",
       "    <tr>\n",
       "      <th>2</th>\n",
       "      <td>218</td>\n",
       "      <td>London</td>\n",
       "      <td>1869</td>\n",
       "      <td>Bradbury, Evans &amp; Co.</td>\n",
       "      <td>Love the Avenger. By the author of “All for Gr...</td>\n",
       "      <td>A., A. A.</td>\n",
       "      <td>http://www.flickr.com/photos/britishlibrary/ta...</td>\n",
       "    </tr>\n",
       "    <tr>\n",
       "      <th>3</th>\n",
       "      <td>472</td>\n",
       "      <td>London</td>\n",
       "      <td>1851</td>\n",
       "      <td>James Darling</td>\n",
       "      <td>Welsh Sketches, chiefly ecclesiastical, to the...</td>\n",
       "      <td>A., E. S.</td>\n",
       "      <td>http://www.flickr.com/photos/britishlibrary/ta...</td>\n",
       "    </tr>\n",
       "    <tr>\n",
       "      <th>4</th>\n",
       "      <td>480</td>\n",
       "      <td>London</td>\n",
       "      <td>1857</td>\n",
       "      <td>Wertheim &amp; Macintosh</td>\n",
       "      <td>[The World in which I live, and my place in it...</td>\n",
       "      <td>A., E. S.</td>\n",
       "      <td>http://www.flickr.com/photos/britishlibrary/ta...</td>\n",
       "    </tr>\n",
       "    <tr>\n",
       "      <th>5</th>\n",
       "      <td>481</td>\n",
       "      <td>London</td>\n",
       "      <td>1875</td>\n",
       "      <td>William Macintosh</td>\n",
       "      <td>[The World in which I live, and my place in it...</td>\n",
       "      <td>A., E. S.</td>\n",
       "      <td>http://www.flickr.com/photos/britishlibrary/ta...</td>\n",
       "    </tr>\n",
       "    <tr>\n",
       "      <th>6</th>\n",
       "      <td>519</td>\n",
       "      <td>London</td>\n",
       "      <td>1872</td>\n",
       "      <td>The Author</td>\n",
       "      <td>Lagonells. By the author of Darmayne (F. E. A....</td>\n",
       "      <td>A., F. E.</td>\n",
       "      <td>http://www.flickr.com/photos/britishlibrary/ta...</td>\n",
       "    </tr>\n",
       "    <tr>\n",
       "      <th>7</th>\n",
       "      <td>667</td>\n",
       "      <td>Oxford</td>\n",
       "      <td>NaN</td>\n",
       "      <td>NaN</td>\n",
       "      <td>The Coming of Spring, and other poems. By J. A...</td>\n",
       "      <td>A., J.|A., J.</td>\n",
       "      <td>http://www.flickr.com/photos/britishlibrary/ta...</td>\n",
       "    </tr>\n",
       "    <tr>\n",
       "      <th>8</th>\n",
       "      <td>874</td>\n",
       "      <td>London</td>\n",
       "      <td>1676</td>\n",
       "      <td>NaN</td>\n",
       "      <td>A Warning to the inhabitants of England, and L...</td>\n",
       "      <td>Remaʿ.</td>\n",
       "      <td>http://www.flickr.com/photos/britishlibrary/ta...</td>\n",
       "    </tr>\n",
       "    <tr>\n",
       "      <th>9</th>\n",
       "      <td>1143</td>\n",
       "      <td>London</td>\n",
       "      <td>1679</td>\n",
       "      <td>NaN</td>\n",
       "      <td>A Satyr against Vertue. (A poem: supposed to b...</td>\n",
       "      <td>A., T.</td>\n",
       "      <td>http://www.flickr.com/photos/britishlibrary/ta...</td>\n",
       "    </tr>\n",
       "  </tbody>\n",
       "</table>\n",
       "</div>"
      ],
      "text/plain": [
       "   Identifier Place of Publication         Year              Publisher  \\\n",
       "0         206               London  1879 [1878]       S. Tinsley & Co.   \n",
       "1         216               London         1868           Virtue & Co.   \n",
       "2         218               London         1869  Bradbury, Evans & Co.   \n",
       "3         472               London         1851          James Darling   \n",
       "4         480               London         1857   Wertheim & Macintosh   \n",
       "5         481               London         1875      William Macintosh   \n",
       "6         519               London         1872             The Author   \n",
       "7         667               Oxford          NaN                    NaN   \n",
       "8         874               London         1676                    NaN   \n",
       "9        1143               London         1679                    NaN   \n",
       "\n",
       "                                               Title         Author  \\\n",
       "0                  Walter Forbes. [A novel.] By A. A          A. A.   \n",
       "1  All for Greed. [A novel. The dedication signed...      A., A. A.   \n",
       "2  Love the Avenger. By the author of “All for Gr...      A., A. A.   \n",
       "3  Welsh Sketches, chiefly ecclesiastical, to the...      A., E. S.   \n",
       "4  [The World in which I live, and my place in it...      A., E. S.   \n",
       "5  [The World in which I live, and my place in it...      A., E. S.   \n",
       "6  Lagonells. By the author of Darmayne (F. E. A....      A., F. E.   \n",
       "7  The Coming of Spring, and other poems. By J. A...  A., J.|A., J.   \n",
       "8  A Warning to the inhabitants of England, and L...         Remaʿ.   \n",
       "9  A Satyr against Vertue. (A poem: supposed to b...         A., T.   \n",
       "\n",
       "                                          Flickr URL  \n",
       "0  http://www.flickr.com/photos/britishlibrary/ta...  \n",
       "1  http://www.flickr.com/photos/britishlibrary/ta...  \n",
       "2  http://www.flickr.com/photos/britishlibrary/ta...  \n",
       "3  http://www.flickr.com/photos/britishlibrary/ta...  \n",
       "4  http://www.flickr.com/photos/britishlibrary/ta...  \n",
       "5  http://www.flickr.com/photos/britishlibrary/ta...  \n",
       "6  http://www.flickr.com/photos/britishlibrary/ta...  \n",
       "7  http://www.flickr.com/photos/britishlibrary/ta...  \n",
       "8  http://www.flickr.com/photos/britishlibrary/ta...  \n",
       "9  http://www.flickr.com/photos/britishlibrary/ta...  "
      ]
     },
     "metadata": {},
     "execution_count": 51
    }
   ],
   "metadata": {}
  },
  {
   "cell_type": "code",
   "execution_count": 20,
   "source": [
    "df.loc[216]\r\n",
    "# menampilkan data berdasarkan identifier (primary key)"
   ],
   "outputs": [
    {
     "output_type": "execute_result",
     "data": {
      "text/plain": [
       "Identifier                                                            84631\n",
       "Edition Statement                                                       NaN\n",
       "Place of Publication                                               New York\n",
       "Date of Publication                                                    1867\n",
       "Publisher                                                   D. Van Nostrand\n",
       "Title                     History of the Campaign of Mobile; including t...\n",
       "Author                                       ANDREWS, Christopher Columbus.\n",
       "Contributors                                        WILSON, James Harrison.\n",
       "Corporate Author                                                        NaN\n",
       "Corporate Contributors                                                  NaN\n",
       "Former owner                                                            NaN\n",
       "Engraver                                                                NaN\n",
       "Issuance type                                                   monographic\n",
       "Flickr URL                http://www.flickr.com/photos/britishlibrary/ta...\n",
       "Shelfmarks                                British Library HMNTS 9603.ee.12.\n",
       "Name: 216, dtype: object"
      ]
     },
     "metadata": {},
     "execution_count": 20
    }
   ],
   "metadata": {}
  },
  {
   "cell_type": "code",
   "execution_count": 53,
   "source": [
    "df['Identifier'].is_unique \r\n",
    "#pengecekan unique dari suatu kolom"
   ],
   "outputs": [
    {
     "output_type": "execute_result",
     "data": {
      "text/plain": [
       "True"
      ]
     },
     "metadata": {},
     "execution_count": 53
    }
   ],
   "metadata": {}
  },
  {
   "cell_type": "code",
   "execution_count": 54,
   "source": [
    "df.set_index('Identifier', inplace=True)"
   ],
   "outputs": [],
   "metadata": {}
  },
  {
   "cell_type": "code",
   "execution_count": 55,
   "source": [
    "df.iloc[218]\r\n",
    "# menampilkan data berdasrkan index"
   ],
   "outputs": [
    {
     "output_type": "execute_result",
     "data": {
      "text/plain": [
       "Place of Publication                                           Providence\n",
       "Year                                                                 1899\n",
       "Publisher                                            Preston & Rounds Co.\n",
       "Title                   Diary of Colonel Israel Angell, commanding the...\n",
       "Author                                                    ANGELL, Israel.\n",
       "Flickr URL              http://www.flickr.com/photos/britishlibrary/ta...\n",
       "Name: 87222, dtype: object"
      ]
     },
     "metadata": {},
     "execution_count": 55
    }
   ],
   "metadata": {}
  },
  {
   "cell_type": "code",
   "execution_count": 56,
   "source": [
    "# df.loc[218]"
   ],
   "outputs": [],
   "metadata": {}
  },
  {
   "cell_type": "markdown",
   "source": [
    "# Tugas Data Mining\r\n",
    "# Latihan Modul no 11 - 14"
   ],
   "metadata": {}
  },
  {
   "cell_type": "markdown",
   "source": [
    "## Latihan no 11\r\n",
    "Patut diduga rata-rata tinggi badan dan berat badan bergantung pada gender. Oleh karena itu akan lebih akurat jika data yang kosong diisi dengan median sesuai atribut Sex. Buat kode untuk melihat apakah dugaan ini benar, dan buat kode untuk mengisi berdasarkan median atribut Sex. "
   ],
   "metadata": {}
  },
  {
   "cell_type": "code",
   "execution_count": 5,
   "source": [
    "import pandas as pd\r\n",
    "df2 = pd.read_csv('athlete_events.csv')\r\n",
    "df2.isnull().sum()\r\n",
    "# Pengecekan Atribut yang masih memiliki data kosong"
   ],
   "outputs": [
    {
     "output_type": "execute_result",
     "data": {
      "text/plain": [
       "ID             0\n",
       "Name           0\n",
       "Sex            0\n",
       "Age         9474\n",
       "Height     60171\n",
       "Weight     62875\n",
       "Team           0\n",
       "NOC            0\n",
       "Games          0\n",
       "Year           0\n",
       "Season         0\n",
       "City           0\n",
       "Sport          0\n",
       "Event          0\n",
       "Medal     231333\n",
       "dtype: int64"
      ]
     },
     "metadata": {},
     "execution_count": 5
    }
   ],
   "metadata": {}
  },
  {
   "cell_type": "code",
   "execution_count": 6,
   "source": [
    "df2.loc[df2.Sex==\"M\",\"Height\"] = df2.loc[df2.Sex==\"M\",\"Height\"].fillna(df2.loc[df2.Sex==\"M\", \"Height\"].median())\r\n",
    "df2.loc[df2.Sex==\"F\",\"Height\"] = df2.loc[df2.Sex==\"F\", \"Height\"].fillna(df2.loc[df2.Sex==\"F\", \"Height\"].median())\r\n",
    "# mengubah isi height yang bernilai NAN dari data untuk M dan F dengan nilai median"
   ],
   "outputs": [],
   "metadata": {}
  },
  {
   "cell_type": "code",
   "execution_count": 7,
   "source": [
    "df2.loc[df2.Sex==\"M\", \"Weight\"] = df2.loc[df2.Sex==\"M\", \"Weight\"].fillna(df2.loc[df2.Sex==\"M\",\"Weight\"].median())\r\n",
    "df2.loc[df2.Sex==\"F\", \"Weight\"] = df2.loc[df2.Sex==\"F\",\"Weight\"].fillna(df2.loc[df2.Sex==\"F\", \"Weight\"].median())\r\n",
    "# mengubah isi weight yang bernilai NAN dari data untuk M dan F dengan nilai median"
   ],
   "outputs": [],
   "metadata": {}
  },
  {
   "cell_type": "code",
   "execution_count": 8,
   "source": [
    "df2.isnull().sum()\r\n",
    "# dicek apakah masih terdapat data yang kosong pada atribut height dan weight"
   ],
   "outputs": [
    {
     "output_type": "execute_result",
     "data": {
      "text/plain": [
       "ID             0\n",
       "Name           0\n",
       "Sex            0\n",
       "Age         9474\n",
       "Height         0\n",
       "Weight         0\n",
       "Team           0\n",
       "NOC            0\n",
       "Games          0\n",
       "Year           0\n",
       "Season         0\n",
       "City           0\n",
       "Sport          0\n",
       "Event          0\n",
       "Medal     231333\n",
       "dtype: int64"
      ]
     },
     "metadata": {},
     "execution_count": 8
    }
   ],
   "metadata": {}
  },
  {
   "cell_type": "markdown",
   "source": [
    "## Latihan no 12\r\n",
    "Coba analisis outlier atribut lain"
   ],
   "metadata": {}
  },
  {
   "cell_type": "code",
   "execution_count": 9,
   "source": [
    "import seaborn as sns\r\n",
    "df3 = df2.copy()\r\n",
    "sns.boxplot(x=\"Height\",data=df3)\r\n",
    "# Pada analisa boxplot disini tertera pada data Tinggi badang dimana diasumsikan yang memiliki tinggi badan dibawah 140\r\n",
    "# dan diatas 220 termasuk data yang rancu sehingga perlu di drop"
   ],
   "outputs": [
    {
     "output_type": "execute_result",
     "data": {
      "text/plain": [
       "<AxesSubplot:xlabel='Height'>"
      ]
     },
     "metadata": {},
     "execution_count": 9
    },
    {
     "output_type": "display_data",
     "data": {
      "image/png": "[encoded data removed]",
      "text/plain": [
       "<Figure size 432x288 with 1 Axes>"
      ]
     },
     "metadata": {
      "needs_background": "light"
     }
    }
   ],
   "metadata": {}
  },
  {
   "cell_type": "code",
   "execution_count": 10,
   "source": [
    "df4 = df2.copy()\r\n",
    "sns.boxplot(x=\"Weight\",data=df4)\r\n",
    "# Pada Grafik boxplot disini dapat dilihat bahwa terdapat beberapa data yang memiliki berat badan di atas rata-rata atau normal\r\n",
    "# sehingga perlu di drop untuk data yang melebihi 175"
   ],
   "outputs": [
    {
     "output_type": "execute_result",
     "data": {
      "text/plain": [
       "<AxesSubplot:xlabel='Weight'>"
      ]
     },
     "metadata": {},
     "execution_count": 10
    },
    {
     "output_type": "display_data",
     "data": {
      "image/png": "[encoded data removed]",
      "text/plain": [
       "<Figure size 432x288 with 1 Axes>"
      ]
     },
     "metadata": {
      "needs_background": "light"
     }
    }
   ],
   "metadata": {}
  },
  {
   "cell_type": "code",
   "execution_count": 11,
   "source": [
    "df3.drop(df3[(df3.Height < 140) | (df3.Height > 220)].index, inplace=True)\r\n",
    "df4.drop(df4[(df4.Weight > 175)].index, inplace=True)\r\n",
    "# mendrop data height yang kurang dari 140 dan lebih dari 220 dan mendrop data weight yang lebih dari 175"
   ],
   "outputs": [],
   "metadata": {}
  },
  {
   "cell_type": "code",
   "execution_count": 136,
   "source": [
    "df2.count()\r\n",
    "# Menghitung jumlah data sebelum di drop"
   ],
   "outputs": [
    {
     "output_type": "execute_result",
     "data": {
      "text/plain": [
       "ID        271116\n",
       "Name      271116\n",
       "Sex       271116\n",
       "Age       261642\n",
       "Height    271116\n",
       "Weight    271116\n",
       "Team      271116\n",
       "NOC       271116\n",
       "Games     271116\n",
       "Year      271116\n",
       "Season    271116\n",
       "City      271116\n",
       "Sport     271116\n",
       "Event     271116\n",
       "Medal      39783\n",
       "dtype: int64"
      ]
     },
     "metadata": {},
     "execution_count": 136
    }
   ],
   "metadata": {}
  },
  {
   "cell_type": "code",
   "execution_count": 139,
   "source": [
    "df3.count()\r\n",
    "# menghitung jumlah data setelah di drop"
   ],
   "outputs": [
    {
     "output_type": "execute_result",
     "data": {
      "text/plain": [
       "ID        270950\n",
       "Name      270950\n",
       "Sex       270950\n",
       "Age       261480\n",
       "Height    270950\n",
       "Weight    270950\n",
       "Team      270950\n",
       "NOC       270950\n",
       "Games     270950\n",
       "Year      270950\n",
       "Season    270950\n",
       "City      270950\n",
       "Sport     270950\n",
       "Event     270950\n",
       "Medal      39767\n",
       "dtype: int64"
      ]
     },
     "metadata": {},
     "execution_count": 139
    }
   ],
   "metadata": {}
  },
  {
   "cell_type": "code",
   "execution_count": 12,
   "source": [
    "df4.count()\r\n",
    "# menghitung jumlah data setelah di drop"
   ],
   "outputs": [
    {
     "output_type": "execute_result",
     "data": {
      "text/plain": [
       "ID        271106\n",
       "Name      271106\n",
       "Sex       271106\n",
       "Age       261632\n",
       "Height    271106\n",
       "Weight    271106\n",
       "Team      271106\n",
       "NOC       271106\n",
       "Games     271106\n",
       "Year      271106\n",
       "Season    271106\n",
       "City      271106\n",
       "Sport     271106\n",
       "Event     271106\n",
       "Medal      39782\n",
       "dtype: int64"
      ]
     },
     "metadata": {},
     "execution_count": 12
    }
   ],
   "metadata": {}
  },
  {
   "cell_type": "markdown",
   "source": [
    "## Latihan No 13\r\n",
    "Atribut apa saja yang dapat ditambahkan berdasarkan atribut yang ada?  (tentu yang kira-kira relevan dengan perolehan medali). Tulis sebanyak-banyaknya dan buat code-nya."
   ],
   "metadata": {}
  },
  {
   "cell_type": "code",
   "execution_count": 21,
   "source": [
    "df2['Medal'].fillna(\"No Medal\", inplace=True)\r\n",
    "df2['Medal'].head()\r\n",
    "# mengubah data kosong pada medal menjadi no medal"
   ],
   "outputs": [
    {
     "output_type": "execute_result",
     "data": {
      "text/plain": [
       "0    No Medal\n",
       "1    No Medal\n",
       "2    No Medal\n",
       "3        Gold\n",
       "4    No Medal\n",
       "Name: Medal, dtype: object"
      ]
     },
     "metadata": {},
     "execution_count": 21
    }
   ],
   "metadata": {}
  },
  {
   "cell_type": "code",
   "execution_count": 26,
   "source": [
    "df2['Podium'] = df2.apply(lambda row: \"Juara\" if (row.Medal == \"Gold\") | (row.Medal == \"Silver\") | (row.Medal == \"Bronze\") else \"Peserta\", axis=1)\r\n",
    "df2['Podium'] = df2[\"Podium\"].astype(\"category\")\r\n",
    "df2[['Medal','Podium']].head(10)"
   ],
   "outputs": [
    {
     "output_type": "execute_result",
     "data": {
      "text/html": [
       "<div>\n",
       "<style scoped>\n",
       "    .dataframe tbody tr th:only-of-type {\n",
       "        vertical-align: middle;\n",
       "    }\n",
       "\n",
       "    .dataframe tbody tr th {\n",
       "        vertical-align: top;\n",
       "    }\n",
       "\n",
       "    .dataframe thead th {\n",
       "        text-align: right;\n",
       "    }\n",
       "</style>\n",
       "<table border=\"1\" class=\"dataframe\">\n",
       "  <thead>\n",
       "    <tr style=\"text-align: right;\">\n",
       "      <th></th>\n",
       "      <th>Medal</th>\n",
       "      <th>Podium</th>\n",
       "    </tr>\n",
       "  </thead>\n",
       "  <tbody>\n",
       "    <tr>\n",
       "      <th>0</th>\n",
       "      <td>No Medal</td>\n",
       "      <td>Peserta</td>\n",
       "    </tr>\n",
       "    <tr>\n",
       "      <th>1</th>\n",
       "      <td>No Medal</td>\n",
       "      <td>Peserta</td>\n",
       "    </tr>\n",
       "    <tr>\n",
       "      <th>2</th>\n",
       "      <td>No Medal</td>\n",
       "      <td>Peserta</td>\n",
       "    </tr>\n",
       "    <tr>\n",
       "      <th>3</th>\n",
       "      <td>Gold</td>\n",
       "      <td>Juara</td>\n",
       "    </tr>\n",
       "    <tr>\n",
       "      <th>4</th>\n",
       "      <td>No Medal</td>\n",
       "      <td>Peserta</td>\n",
       "    </tr>\n",
       "    <tr>\n",
       "      <th>5</th>\n",
       "      <td>No Medal</td>\n",
       "      <td>Peserta</td>\n",
       "    </tr>\n",
       "    <tr>\n",
       "      <th>6</th>\n",
       "      <td>No Medal</td>\n",
       "      <td>Peserta</td>\n",
       "    </tr>\n",
       "    <tr>\n",
       "      <th>7</th>\n",
       "      <td>No Medal</td>\n",
       "      <td>Peserta</td>\n",
       "    </tr>\n",
       "    <tr>\n",
       "      <th>8</th>\n",
       "      <td>No Medal</td>\n",
       "      <td>Peserta</td>\n",
       "    </tr>\n",
       "    <tr>\n",
       "      <th>9</th>\n",
       "      <td>No Medal</td>\n",
       "      <td>Peserta</td>\n",
       "    </tr>\n",
       "  </tbody>\n",
       "</table>\n",
       "</div>"
      ],
      "text/plain": [
       "      Medal   Podium\n",
       "0  No Medal  Peserta\n",
       "1  No Medal  Peserta\n",
       "2  No Medal  Peserta\n",
       "3      Gold    Juara\n",
       "4  No Medal  Peserta\n",
       "5  No Medal  Peserta\n",
       "6  No Medal  Peserta\n",
       "7  No Medal  Peserta\n",
       "8  No Medal  Peserta\n",
       "9  No Medal  Peserta"
      ]
     },
     "metadata": {},
     "execution_count": 26
    }
   ],
   "metadata": {}
  },
  {
   "cell_type": "markdown",
   "source": [
    "# Latihan No 14\r\n",
    "Olimpiade di dataframe ini hanya mencakup sampai tahun 2016, coba gabungan data atlet pada 2020 Tokyo. "
   ],
   "metadata": {}
  },
  {
   "cell_type": "code",
   "execution_count": 2,
   "source": [
    "import pandas as pd\r\n",
    "df5 = pd.read_excel('Athletes.xlsx') # menload file bertipe excel\r\n",
    "df5.head(5)\r\n",
    "# memuat file bertipe excel dan menampilkan sebagian data dari dataset"
   ],
   "outputs": [
    {
     "output_type": "execute_result",
     "data": {
      "text/html": [
       "<div>\n",
       "<style scoped>\n",
       "    .dataframe tbody tr th:only-of-type {\n",
       "        vertical-align: middle;\n",
       "    }\n",
       "\n",
       "    .dataframe tbody tr th {\n",
       "        vertical-align: top;\n",
       "    }\n",
       "\n",
       "    .dataframe thead th {\n",
       "        text-align: right;\n",
       "    }\n",
       "</style>\n",
       "<table border=\"1\" class=\"dataframe\">\n",
       "  <thead>\n",
       "    <tr style=\"text-align: right;\">\n",
       "      <th></th>\n",
       "      <th>Name</th>\n",
       "      <th>NOC</th>\n",
       "      <th>Discipline</th>\n",
       "    </tr>\n",
       "  </thead>\n",
       "  <tbody>\n",
       "    <tr>\n",
       "      <th>0</th>\n",
       "      <td>AALERUD Katrine</td>\n",
       "      <td>Norway</td>\n",
       "      <td>Cycling Road</td>\n",
       "    </tr>\n",
       "    <tr>\n",
       "      <th>1</th>\n",
       "      <td>ABAD Nestor</td>\n",
       "      <td>Spain</td>\n",
       "      <td>Artistic Gymnastics</td>\n",
       "    </tr>\n",
       "    <tr>\n",
       "      <th>2</th>\n",
       "      <td>ABAGNALE Giovanni</td>\n",
       "      <td>Italy</td>\n",
       "      <td>Rowing</td>\n",
       "    </tr>\n",
       "    <tr>\n",
       "      <th>3</th>\n",
       "      <td>ABALDE Alberto</td>\n",
       "      <td>Spain</td>\n",
       "      <td>Basketball</td>\n",
       "    </tr>\n",
       "    <tr>\n",
       "      <th>4</th>\n",
       "      <td>ABALDE Tamara</td>\n",
       "      <td>Spain</td>\n",
       "      <td>Basketball</td>\n",
       "    </tr>\n",
       "  </tbody>\n",
       "</table>\n",
       "</div>"
      ],
      "text/plain": [
       "                Name     NOC           Discipline\n",
       "0    AALERUD Katrine  Norway         Cycling Road\n",
       "1        ABAD Nestor   Spain  Artistic Gymnastics\n",
       "2  ABAGNALE Giovanni   Italy               Rowing\n",
       "3     ABALDE Alberto   Spain           Basketball\n",
       "4      ABALDE Tamara   Spain           Basketball"
      ]
     },
     "metadata": {},
     "execution_count": 2
    }
   ],
   "metadata": {}
  },
  {
   "cell_type": "code",
   "execution_count": 15,
   "source": [
    "df6 = pd.merge(df2, df5, how='outer')\r\n",
    "# proses menggabungkan data set yang lama dengan yang baru"
   ],
   "outputs": [],
   "metadata": {}
  },
  {
   "cell_type": "code",
   "execution_count": 13,
   "source": [
    "df2.count()\r\n",
    "# menghitung jumlah data sebelum digabung dengan data set yang baru"
   ],
   "outputs": [
    {
     "output_type": "execute_result",
     "data": {
      "text/plain": [
       "ID        271116\n",
       "Name      271116\n",
       "Sex       271116\n",
       "Age       261642\n",
       "Height    271116\n",
       "Weight    271116\n",
       "Team      271116\n",
       "NOC       271116\n",
       "Games     271116\n",
       "Year      271116\n",
       "Season    271116\n",
       "City      271116\n",
       "Sport     271116\n",
       "Event     271116\n",
       "Medal      39783\n",
       "dtype: int64"
      ]
     },
     "metadata": {},
     "execution_count": 13
    }
   ],
   "metadata": {}
  },
  {
   "cell_type": "code",
   "execution_count": 16,
   "source": [
    "df6.count()\r\n",
    "# menghitung jumlah data setelah dataset digabung dengan yang baru"
   ],
   "outputs": [
    {
     "output_type": "execute_result",
     "data": {
      "text/plain": [
       "ID            271116\n",
       "Name          282201\n",
       "Sex           271116\n",
       "Age           261642\n",
       "Height        271116\n",
       "Weight        271116\n",
       "Team          271116\n",
       "NOC           282201\n",
       "Games         271116\n",
       "Year          271116\n",
       "Season        271116\n",
       "City          271116\n",
       "Sport         271116\n",
       "Event         271116\n",
       "Medal          39783\n",
       "Discipline     11085\n",
       "dtype: int64"
      ]
     },
     "metadata": {},
     "execution_count": 16
    }
   ],
   "metadata": {}
  }
 ],
 "metadata": {
  "orig_nbformat": 4,
  "language_info": {
   "name": "python",
   "version": "3.8.8",
   "mimetype": "text/x-python",
   "codemirror_mode": {
    "name": "ipython",
    "version": 3
   },
   "pygments_lexer": "ipython3",
   "nbconvert_exporter": "python",
   "file_extension": ".py"
  },
  "kernelspec": {
   "name": "python3",
   "display_name": "Python 3.8.8 64-bit ('base': conda)"
  },
  "interpreter": {
   "hash": "34dfee18d5f4a96df9a8fcc719c91cf50e8ed50de2aa108bf45cd20982063274"
  }
 },
 "nbformat": 4,
 "nbformat_minor": 2
}