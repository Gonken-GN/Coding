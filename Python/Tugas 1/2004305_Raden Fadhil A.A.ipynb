{
 "cells": [
  {
   "cell_type": "code",
   "execution_count": 1,
   "source": [
    "#soal no 1\r\n",
    "print (\"Selamat Pagi\\nNama Anda: Raden Fadhil Anugerah Ardiwilaga\\nPython tidak sulit, saya akan menguasainya!\\n\")\r\n",
    "# NIM: 2004305\r\n",
    "# absen: 29 "
   ],
   "outputs": [
    {
     "output_type": "stream",
     "name": "stdout",
     "text": [
      "Selamat Pagi\n",
      "Nama Anda: **Raden Fadhil Anugerah Ardiwilaga**\n",
      "Python tidak sulit, saya akan menguasainya!\n",
      "\n"
     ]
    }
   ],
   "metadata": {}
  },
  {
   "cell_type": "code",
   "execution_count": 5,
   "source": [
    "#soal no 3\r\n",
    "panjang = int(input(\"Input Panjang:\")) \r\n",
    "lebar = int(input(\"Input Lebar\"))\r\n",
    "luas = panjang * lebar\r\n",
    "keliling = (2*panjang) + (2*lebar)\r\n",
    "print(luas)\r\n",
    "print(keliling)"
   ],
   "outputs": [
    {
     "output_type": "stream",
     "name": "stdout",
     "text": [
      "20\n",
      "18\n"
     ]
    }
   ],
   "metadata": {}
  },
  {
   "cell_type": "code",
   "execution_count": 2,
   "source": [
    "#soal no 5\r\n",
    "i=0\r\n",
    "x=0\r\n",
    "# print dari 1-3\r\n",
    "while(i<5):\r\n",
    "  if(i<=2):\r\n",
    "    x = x + 1\r\n",
    "    print(x)\r\n",
    "  i+=1\r\n",
    "# print dari 2 hingga 1\r\n",
    "for i in range(2):\r\n",
    "  x-=1\r\n",
    "  print(x)"
   ],
   "outputs": [
    {
     "output_type": "stream",
     "name": "stdout",
     "text": [
      "1\n",
      "2\n",
      "3\n",
      "2\n",
      "1\n"
     ]
    }
   ],
   "metadata": {}
  },
  {
   "cell_type": "code",
   "execution_count": 3,
   "source": [
    "#soal no 7\r\n",
    "list1 = [1,2,3,4,5]\r\n",
    "l1 = [x for x in list1 if x >= 3] # memprint isi list lebih dari integer 3\r\n",
    "print(l1)"
   ],
   "outputs": [
    {
     "output_type": "stream",
     "name": "stdout",
     "text": [
      "[3, 4, 5]\n"
     ]
    }
   ],
   "metadata": {}
  },
  {
   "cell_type": "code",
   "execution_count": 4,
   "source": [
    "#soal no 9\r\n",
    "list1 = [5,6,7]\r\n",
    "list2 = [\"lima\",\"enam\",\"tujuh\"]\r\n",
    "for i, (input_text, target_text) in enumerate(zip(list1, list2)): # print iterator dan list yang telah digabungkan\r\n",
    "    print(i,input_text,target_text)"
   ],
   "outputs": [
    {
     "output_type": "stream",
     "name": "stdout",
     "text": [
      "0 5 lima\n",
      "1 6 enam\n",
      "2 7 tujuh\n"
     ]
    }
   ],
   "metadata": {}
  },
  {
   "cell_type": "markdown",
   "source": [],
   "metadata": {}
  }
 ],
 "metadata": {
  "orig_nbformat": 4,
  "language_info": {
   "name": "python",
   "version": "3.8.8",
   "mimetype": "text/x-python",
   "codemirror_mode": {
    "name": "ipython",
    "version": 3
   },
   "pygments_lexer": "ipython3",
   "nbconvert_exporter": "python",
   "file_extension": ".py"
  },
  "kernelspec": {
   "name": "python3",
   "display_name": "Python 3.8.8 64-bit ('base': conda)"
  },
  "interpreter": {
   "hash": "34dfee18d5f4a96df9a8fcc719c91cf50e8ed50de2aa108bf45cd20982063274"
  }
 },
 "nbformat": 4,
 "nbformat_minor": 2
}